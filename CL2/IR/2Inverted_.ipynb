{
  "cells": [
    {
      "cell_type": "code",
      "execution_count": null,
      "id": "857758d9",
      "metadata": {
        "id": "857758d9"
      },
      "outputs": [],
      "source": [
        "document1 = \"The quick brown fox jumped over the lazy dog.\"\n",
        "document2 = \"The lazy dog slept in the sun.\""
      ]
    },
    {
      "cell_type": "code",
      "execution_count": null,
      "id": "359e7061",
      "metadata": {
        "colab": {
          "base_uri": "https://localhost:8080/"
        },
        "id": "359e7061",
        "outputId": "82fe2e7e-798c-4554-ceb4-883418139ded"
      },
      "outputs": [
        {
          "output_type": "stream",
          "name": "stdout",
          "text": [
            "Token1 : ['the', 'quick', 'brown', 'fox', 'jumped', 'over', 'the', 'lazy', 'dog.']\n",
            "\n",
            "\n",
            "Token2 : ['the', 'lazy', 'dog', 'slept', 'in', 'the', 'sun.']\n"
          ]
        }
      ],
      "source": [
        "# Convert each document to lowercase and split it into words\n",
        "tokens1 = document1.lower().split()\n",
        "tokens2 = document2.lower().split()\n",
        "print(f\"Token1 : {tokens1}\")\n",
        "print(f\"\\n\\nToken2 : {tokens2}\")"
      ]
    },
    {
      "cell_type": "code",
      "execution_count": null,
      "id": "5976a7b9",
      "metadata": {
        "colab": {
          "base_uri": "https://localhost:8080/"
        },
        "id": "5976a7b9",
        "outputId": "580ac89f-6def-43a2-ba6a-b3673df63f5f"
      },
      "outputs": [
        {
          "output_type": "stream",
          "name": "stdout",
          "text": [
            "Terms : ['brown', 'dog', 'sun.', 'fox', 'quick', 'the', 'slept', 'in', 'lazy', 'dog.', 'over', 'jumped']\n"
          ]
        }
      ],
      "source": [
        "# Combine the tokens into a list of unique terms\n",
        "terms = list(set(tokens1 + tokens2))\n",
        "print(f\"Terms : {terms}\")"
      ]
    },
    {
      "cell_type": "code",
      "execution_count": null,
      "id": "0ba90b8c",
      "metadata": {
        "colab": {
          "base_uri": "https://localhost:8080/"
        },
        "id": "0ba90b8c",
        "outputId": "ea60ce8f-0fcf-4828-f222-a864179f8fdd"
      },
      "outputs": [
        {
          "output_type": "stream",
          "name": "stdout",
          "text": [
            "Inverted Index Dictionary : \n",
            "{'brown': ['Document 1'], 'dog': ['Document 2'], 'sun.': ['Document 2'], 'fox': ['Document 1'], 'quick': ['Document 1'], 'the': ['Document 1', 'Document 2'], 'slept': ['Document 2'], 'in': ['Document 2'], 'lazy': ['Document 1', 'Document 2'], 'dog.': ['Document 1'], 'over': ['Document 1'], 'jumped': ['Document 1']}\n"
          ]
        }
      ],
      "source": [
        "# Create an empty dictionary to store the inverted index\n",
        "inverted_index = {}\n",
        "\n",
        "# For each term, find the documents that contain it\n",
        "for term in terms:\n",
        "    documents = []\n",
        "    if term in tokens1:\n",
        "        documents.append(\"Document 1\")\n",
        "    if term in tokens2:\n",
        "        documents.append(\"Document 2\")\n",
        "    inverted_index[term] = documents\n",
        "\n",
        "print(f\"Inverted Index Dictionary : \\n{inverted_index}\")"
      ]
    },
    {
      "cell_type": "code",
      "execution_count": null,
      "id": "bf966595",
      "metadata": {
        "colab": {
          "base_uri": "https://localhost:8080/"
        },
        "id": "bf966595",
        "outputId": "35c2859f-c53a-490b-bd16-25d37b7503ac"
      },
      "outputs": [
        {
          "output_type": "stream",
          "name": "stdout",
          "text": [
            "brown -> Document 1\n",
            "dog -> Document 2\n",
            "sun. -> Document 2\n",
            "fox -> Document 1\n",
            "quick -> Document 1\n",
            "the -> Document 1, Document 2\n",
            "slept -> Document 2\n",
            "in -> Document 2\n",
            "lazy -> Document 1, Document 2\n",
            "dog. -> Document 1\n",
            "over -> Document 1\n",
            "jumped -> Document 1\n"
          ]
        }
      ],
      "source": [
        "# Print inverted index\n",
        "for term, documents in inverted_index.items():\n",
        "    print(f\"{term} -> {', '.join(documents)}\")"
      ]
    },
    {
      "cell_type": "code",
      "execution_count": null,
      "id": "f372849b",
      "metadata": {
        "id": "f372849b"
      },
      "outputs": [],
      "source": []
    },
    {
      "cell_type": "code",
      "execution_count": null,
      "id": "6f5578dd-2668-4719-b825-9fd846140ccd",
      "metadata": {
        "id": "6f5578dd-2668-4719-b825-9fd846140ccd"
      },
      "outputs": [],
      "source": []
    }
  ],
  "metadata": {
    "kernelspec": {
      "display_name": "Python 3 (ipykernel)",
      "language": "python",
      "name": "python3"
    },
    "language_info": {
      "codemirror_mode": {
        "name": "ipython",
        "version": 3
      },
      "file_extension": ".py",
      "mimetype": "text/x-python",
      "name": "python",
      "nbconvert_exporter": "python",
      "pygments_lexer": "ipython3",
      "version": "3.10.12"
    },
    "colab": {
      "provenance": []
    }
  },
  "nbformat": 4,
  "nbformat_minor": 5
}