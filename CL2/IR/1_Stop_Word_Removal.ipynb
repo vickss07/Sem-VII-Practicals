{
  "cells": [
    {
      "cell_type": "code",
      "execution_count": null,
      "id": "80f945a5",
      "metadata": {
        "id": "80f945a5"
      },
      "outputs": [],
      "source": [
        "import nltk"
      ]
    },
    {
      "cell_type": "code",
      "execution_count": null,
      "id": "23cf87ae",
      "metadata": {
        "id": "23cf87ae"
      },
      "outputs": [],
      "source": [
        "\n",
        "from nltk.corpus import stopwords"
      ]
    },
    {
      "cell_type": "code",
      "execution_count": null,
      "id": "fae8a019",
      "metadata": {
        "colab": {
          "base_uri": "https://localhost:8080/"
        },
        "id": "fae8a019",
        "outputId": "af25481b-09f4-429b-ab69-2d44b3749db7"
      },
      "outputs": [
        {
          "output_type": "stream",
          "name": "stderr",
          "text": [
            "[nltk_data] Downloading package stopwords to /root/nltk_data...\n",
            "[nltk_data]   Package stopwords is already up-to-date!\n",
            "[nltk_data] Downloading package punkt_tab to /root/nltk_data...\n",
            "[nltk_data]   Package punkt_tab is already up-to-date!\n"
          ]
        },
        {
          "output_type": "execute_result",
          "data": {
            "text/plain": [
              "True"
            ]
          },
          "metadata": {},
          "execution_count": 19
        }
      ],
      "source": [
        "# nltk.download('punkt')\n",
        "nltk.download('stopwords')\n",
        "nltk.download('punkt_tab')"
      ]
    },
    {
      "cell_type": "code",
      "execution_count": null,
      "id": "9dd91566",
      "metadata": {
        "colab": {
          "base_uri": "https://localhost:8080/"
        },
        "id": "9dd91566",
        "outputId": "3816b77e-1db8-4884-aafb-8c97ed38db8b"
      },
      "outputs": [
        {
          "output_type": "stream",
          "name": "stdout",
          "text": [
            "['i', 'me', 'my', 'myself', 'we', 'our', 'ours', 'ourselves', 'you', \"you're\", \"you've\", \"you'll\", \"you'd\", 'your', 'yours', 'yourself', 'yourselves', 'he', 'him', 'his', 'himself', 'she', \"she's\", 'her', 'hers', 'herself', 'it', \"it's\", 'its', 'itself', 'they', 'them', 'their', 'theirs', 'themselves', 'what', 'which', 'who', 'whom', 'this', 'that', \"that'll\", 'these', 'those', 'am', 'is', 'are', 'was', 'were', 'be', 'been', 'being', 'have', 'has', 'had', 'having', 'do', 'does', 'did', 'doing', 'a', 'an', 'the', 'and', 'but', 'if', 'or', 'because', 'as', 'until', 'while', 'of', 'at', 'by', 'for', 'with', 'about', 'against', 'between', 'into', 'through', 'during', 'before', 'after', 'above', 'below', 'to', 'from', 'up', 'down', 'in', 'out', 'on', 'off', 'over', 'under', 'again', 'further', 'then', 'once', 'here', 'there', 'when', 'where', 'why', 'how', 'all', 'any', 'both', 'each', 'few', 'more', 'most', 'other', 'some', 'such', 'no', 'nor', 'not', 'only', 'own', 'same', 'so', 'than', 'too', 'very', 's', 't', 'can', 'will', 'just', 'don', \"don't\", 'should', \"should've\", 'now', 'd', 'll', 'm', 'o', 're', 've', 'y', 'ain', 'aren', \"aren't\", 'couldn', \"couldn't\", 'didn', \"didn't\", 'doesn', \"doesn't\", 'hadn', \"hadn't\", 'hasn', \"hasn't\", 'haven', \"haven't\", 'isn', \"isn't\", 'ma', 'mightn', \"mightn't\", 'mustn', \"mustn't\", 'needn', \"needn't\", 'shan', \"shan't\", 'shouldn', \"shouldn't\", 'wasn', \"wasn't\", 'weren', \"weren't\", 'won', \"won't\", 'wouldn', \"wouldn't\"]\n"
          ]
        }
      ],
      "source": [
        "# Check stopwords present in 'nltk_data'\n",
        "# 'nltk_data' contain stopwords in 16 different languages\n",
        "# So please pass the language name for precise one\n",
        "\n",
        "print(stopwords.words('english'))"
      ]
    },
    {
      "cell_type": "code",
      "execution_count": null,
      "id": "d56001d2",
      "metadata": {
        "id": "d56001d2"
      },
      "outputs": [],
      "source": [
        "from nltk.tokenize import word_tokenize"
      ]
    },
    {
      "cell_type": "code",
      "execution_count": null,
      "id": "d86d8817",
      "metadata": {
        "colab": {
          "base_uri": "https://localhost:8080/"
        },
        "id": "d86d8817",
        "outputId": "7efe1577-7447-46c7-904a-237d6a0ecfb9"
      },
      "outputs": [
        {
          "output_type": "stream",
          "name": "stdout",
          "text": [
            "Word Tokens: ['My', 'name', 'is', 'Shantanu', 'Gaikwad', 'and', 'studying', 'AI', '&', 'DS', 'Engineering', 'at', 'ADYPSOE', '.']\n",
            "Filtered Words: ['name', 'Shantanu', 'Gaikwad', 'studying', 'AI', '&', 'DS', 'Engineering', 'ADYPSOE', '.']\n"
          ]
        }
      ],
      "source": [
        "data = \"My name is Shantanu Gaikwad and studying AI&DS Engineering at ADYPSOE.\"\n",
        "\n",
        "# stop_words = set(stopwords.words('english'))\n",
        "# word_tokens = word_tokenize(data)\n",
        "\n",
        "# print(word_tokens)\n",
        "\n",
        "\n",
        "stop_words = set(stopwords.words('english'))\n",
        "word_tokens = word_tokenize(data)\n",
        "filtered_words = [word for word in word_tokens if word.lower() not in stop_words]\n",
        "\n",
        "print(\"Word Tokens:\", word_tokens)\n",
        "print(\"Filtered Words:\", filtered_words)"
      ]
    },
    {
      "cell_type": "code",
      "execution_count": null,
      "id": "7b70564e",
      "metadata": {
        "colab": {
          "base_uri": "https://localhost:8080/"
        },
        "id": "7b70564e",
        "outputId": "df750715-1be2-4638-8c95-3e14b0ecacbc"
      },
      "outputs": [
        {
          "output_type": "stream",
          "name": "stdout",
          "text": [
            "Case insensitive stop word removal : \n",
            "['name', 'Shantanu', 'Gaikwad', 'studying', 'AI', '&', 'DS', 'Engineering', 'ADYPSOE', '.']\n"
          ]
        }
      ],
      "source": [
        "# filtered_sentence = [w for w in word_tokens if not w.lower() in stop_words] - list comprehension\n",
        "filtered_sentence = []\n",
        "for w in word_tokens:\n",
        "    if w.lower() not in stop_words:\n",
        "        filtered_sentence.append(w)\n",
        "print(f\"Case insensitive stop word removal : \\n{filtered_sentence}\")"
      ]
    },
    {
      "cell_type": "code",
      "execution_count": null,
      "id": "870b1815",
      "metadata": {
        "colab": {
          "base_uri": "https://localhost:8080/"
        },
        "id": "870b1815",
        "outputId": "0788b9fc-1294-4332-bfc7-31a854a04535"
      },
      "outputs": [
        {
          "output_type": "stream",
          "name": "stdout",
          "text": [
            "Case sensitive stop word removal : \n",
            "['My', 'name', 'Shantanu', 'Gaikwad', 'studying', 'AI', '&', 'DS', 'Engineering', 'ADYPSOE', '.']\n"
          ]
        }
      ],
      "source": [
        "filtered_sentence = []\n",
        "for w in word_tokens:\n",
        "    if w not in stop_words:\n",
        "        filtered_sentence.append(w)\n",
        "\n",
        "print(f\"Case sensitive stop word removal : \\n{filtered_sentence}\")"
      ]
    },
    {
      "cell_type": "code",
      "execution_count": null,
      "id": "85113dad",
      "metadata": {
        "id": "85113dad"
      },
      "outputs": [],
      "source": []
    },
    {
      "cell_type": "code",
      "execution_count": null,
      "id": "339b8a9f-6dad-48d6-b012-2db20bece033",
      "metadata": {
        "id": "339b8a9f-6dad-48d6-b012-2db20bece033"
      },
      "outputs": [],
      "source": []
    },
    {
      "cell_type": "code",
      "execution_count": null,
      "id": "8acee9ca-8b32-4bcd-a7db-17765549277b",
      "metadata": {
        "id": "8acee9ca-8b32-4bcd-a7db-17765549277b"
      },
      "outputs": [],
      "source": []
    }
  ],
  "metadata": {
    "kernelspec": {
      "display_name": "Python 3 (ipykernel)",
      "language": "python",
      "name": "python3"
    },
    "language_info": {
      "codemirror_mode": {
        "name": "ipython",
        "version": 3
      },
      "file_extension": ".py",
      "mimetype": "text/x-python",
      "name": "python",
      "nbconvert_exporter": "python",
      "pygments_lexer": "ipython3",
      "version": "3.10.12"
    },
    "colab": {
      "provenance": []
    }
  },
  "nbformat": 4,
  "nbformat_minor": 5
}