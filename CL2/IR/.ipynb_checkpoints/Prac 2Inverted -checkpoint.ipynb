{
 "cells": [
  {
   "cell_type": "code",
   "execution_count": 1,
   "id": "857758d9",
   "metadata": {},
   "outputs": [],
   "source": [
    "document1 = \"The quick brown fox jumped over the lazy dog.\" \n",
    "document2 = \"The lazy dog slept in the sun.\""
   ]
  },
  {
   "cell_type": "code",
   "execution_count": 20,
   "id": "359e7061",
   "metadata": {},
   "outputs": [
    {
     "name": "stdout",
     "output_type": "stream",
     "text": [
      "Token1 : ['the', 'quick', 'brown', 'fox', 'jumped', 'over', 'the', 'lazy', 'dog.']\n",
      "\n",
      "\n",
      "Token2 : ['the', 'lazy', 'dog', 'slept', 'in', 'the', 'sun.']\n"
     ]
    }
   ],
   "source": [
    "# Convert each document to lowercase and split it into words\n",
    "tokens1 = document1.lower().split()\n",
    "tokens2 = document2.lower().split()\n",
    "print(f\"Token1 : {tokens1}\")\n",
    "print(f\"\\n\\nToken2 : {tokens2}\")"
   ]
  },
  {
   "cell_type": "code",
   "execution_count": 21,
   "id": "5976a7b9",
   "metadata": {},
   "outputs": [
    {
     "name": "stdout",
     "output_type": "stream",
     "text": [
      "Terms : ['the', 'over', 'dog.', 'in', 'lazy', 'jumped', 'fox', 'sun.', 'quick', 'dog', 'brown', 'slept']\n"
     ]
    }
   ],
   "source": [
    "# Combine the tokens into a list of unique terms\n",
    "terms = list(set(tokens1 + tokens2))\n",
    "print(f\"Terms : {terms}\")"
   ]
  },
  {
   "cell_type": "code",
   "execution_count": 22,
   "id": "0ba90b8c",
   "metadata": {},
   "outputs": [
    {
     "name": "stdout",
     "output_type": "stream",
     "text": [
      "Inverted Index Dictionary : \n",
      "{'the': ['Document 1', 'Document 2'], 'over': ['Document 1'], 'dog.': ['Document 1'], 'in': ['Document 2'], 'lazy': ['Document 1', 'Document 2'], 'jumped': ['Document 1'], 'fox': ['Document 1'], 'sun.': ['Document 2'], 'quick': ['Document 1'], 'dog': ['Document 2'], 'brown': ['Document 1'], 'slept': ['Document 2']}\n"
     ]
    }
   ],
   "source": [
    "# Create an empty dictionary to store the inverted index \n",
    "inverted_index = {}\n",
    "\n",
    "# For each term, find the documents that contain it \n",
    "for term in terms:\n",
    "    documents = []\n",
    "    if term in tokens1: \n",
    "        documents.append(\"Document 1\")\n",
    "    if term in tokens2: \n",
    "        documents.append(\"Document 2\")\n",
    "    inverted_index[term] = documents\n",
    "\n",
    "print(f\"Inverted Index Dictionary : \\n{inverted_index}\")"
   ]
  },
  {
   "cell_type": "code",
   "execution_count": 23,
   "id": "bf966595",
   "metadata": {},
   "outputs": [
    {
     "name": "stdout",
     "output_type": "stream",
     "text": [
      "the -> Document 1, Document 2\n",
      "over -> Document 1\n",
      "dog. -> Document 1\n",
      "in -> Document 2\n",
      "lazy -> Document 1, Document 2\n",
      "jumped -> Document 1\n",
      "fox -> Document 1\n",
      "sun. -> Document 2\n",
      "quick -> Document 1\n",
      "dog -> Document 2\n",
      "brown -> Document 1\n",
      "slept -> Document 2\n"
     ]
    }
   ],
   "source": [
    "# Print inverted index\n",
    "for term, documents in inverted_index.items(): \n",
    "    print(f\"{term} -> {', '.join(documents)}\")"
   ]
  },
  {
   "cell_type": "code",
   "execution_count": null,
   "id": "f372849b",
   "metadata": {},
   "outputs": [],
   "source": []
  }
 ],
 "metadata": {
  "kernelspec": {
   "display_name": "Python 3 (ipykernel)",
   "language": "python",
   "name": "python3"
  },
  "language_info": {
   "codemirror_mode": {
    "name": "ipython",
    "version": 3
   },
   "file_extension": ".py",
   "mimetype": "text/x-python",
   "name": "python",
   "nbconvert_exporter": "python",
   "pygments_lexer": "ipython3",
   "version": "3.8.5"
  }
 },
 "nbformat": 4,
 "nbformat_minor": 5
}
