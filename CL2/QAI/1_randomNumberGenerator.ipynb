{
 "cells": [
  {
   "cell_type": "code",
   "execution_count": 1,
   "metadata": {
    "executionInfo": {
     "elapsed": 457,
     "status": "ok",
     "timestamp": 1731490207113,
     "user": {
      "displayName": "Abhishek Shinde",
      "userId": "03317997291877497814"
     },
     "user_tz": -330
    },
    "id": "kFdPALxq2fx6"
   },
   "outputs": [],
   "source": [
    "from qiskit import QuantumCircuit\n",
    "from qiskit.primitives import Sampler\n",
    "from qiskit_aer import Aer\n",
    "from qiskit.visualization import circuit_drawer"
   ]
  },
  {
   "cell_type": "code",
   "execution_count": 2,
   "metadata": {
    "executionInfo": {
     "elapsed": 432,
     "status": "ok",
     "timestamp": 1731490229913,
     "user": {
      "displayName": "Abhishek Shinde",
      "userId": "03317997291877497814"
     },
     "user_tz": -330
    },
    "id": "goJqBGrP2fub"
   },
   "outputs": [],
   "source": [
    "circuit = QuantumCircuit(16,16)"
   ]
  },
  {
   "cell_type": "code",
   "execution_count": 3,
   "metadata": {
    "colab": {
     "base_uri": "https://localhost:8080/"
    },
    "executionInfo": {
     "elapsed": 455,
     "status": "ok",
     "timestamp": 1731490241756,
     "user": {
      "displayName": "Abhishek Shinde",
      "userId": "03317997291877497814"
     },
     "user_tz": -330
    },
    "id": "hHp_aZyc2fq5",
    "outputId": "f4bf8a9a-f0b5-4a32-8f7c-5bfc649693bc"
   },
   "outputs": [
    {
     "data": {
      "text/plain": [
       "<qiskit.circuit.instructionset.InstructionSet at 0x7396fe8fa950>"
      ]
     },
     "execution_count": 3,
     "metadata": {},
     "output_type": "execute_result"
    }
   ],
   "source": [
    "circuit.h(range(16))"
   ]
  },
  {
   "cell_type": "code",
   "execution_count": 4,
   "metadata": {
    "colab": {
     "base_uri": "https://localhost:8080/"
    },
    "executionInfo": {
     "elapsed": 727,
     "status": "ok",
     "timestamp": 1731490259515,
     "user": {
      "displayName": "Abhishek Shinde",
      "userId": "03317997291877497814"
     },
     "user_tz": -330
    },
    "id": "9DrH6XsP2foC",
    "outputId": "f7e37b65-51dc-4a25-9b11-42dd86f72b8d"
   },
   "outputs": [
    {
     "data": {
      "text/plain": [
       "<qiskit.circuit.instructionset.InstructionSet at 0x7396e81b6bc0>"
      ]
     },
     "execution_count": 4,
     "metadata": {},
     "output_type": "execute_result"
    }
   ],
   "source": [
    "circuit.measure(range(16), range(16))"
   ]
  },
  {
   "cell_type": "code",
   "execution_count": 5,
   "metadata": {
    "colab": {
     "base_uri": "https://localhost:8080/"
    },
    "executionInfo": {
     "elapsed": 445,
     "status": "ok",
     "timestamp": 1731490269689,
     "user": {
      "displayName": "Abhishek Shinde",
      "userId": "03317997291877497814"
     },
     "user_tz": -330
    },
    "id": "sinwLdbx2fk7",
    "outputId": "59ff4d4b-d87a-4fe0-8150-168059fe5edb"
   },
   "outputs": [
    {
     "name": "stdout",
     "output_type": "stream",
     "text": [
      "      ┌───┐┌─┐                                             \n",
      " q_0: ┤ H ├┤M├─────────────────────────────────────────────\n",
      "      ├───┤└╥┘┌─┐                                          \n",
      " q_1: ┤ H ├─╫─┤M├──────────────────────────────────────────\n",
      "      ├───┤ ║ └╥┘┌─┐                                       \n",
      " q_2: ┤ H ├─╫──╫─┤M├───────────────────────────────────────\n",
      "      ├───┤ ║  ║ └╥┘┌─┐                                    \n",
      " q_3: ┤ H ├─╫──╫──╫─┤M├────────────────────────────────────\n",
      "      ├───┤ ║  ║  ║ └╥┘┌─┐                                 \n",
      " q_4: ┤ H ├─╫──╫──╫──╫─┤M├─────────────────────────────────\n",
      "      ├───┤ ║  ║  ║  ║ └╥┘┌─┐                              \n",
      " q_5: ┤ H ├─╫──╫──╫──╫──╫─┤M├──────────────────────────────\n",
      "      ├───┤ ║  ║  ║  ║  ║ └╥┘┌─┐                           \n",
      " q_6: ┤ H ├─╫──╫──╫──╫──╫──╫─┤M├───────────────────────────\n",
      "      ├───┤ ║  ║  ║  ║  ║  ║ └╥┘┌─┐                        \n",
      " q_7: ┤ H ├─╫──╫──╫──╫──╫──╫──╫─┤M├────────────────────────\n",
      "      ├───┤ ║  ║  ║  ║  ║  ║  ║ └╥┘┌─┐                     \n",
      " q_8: ┤ H ├─╫──╫──╫──╫──╫──╫──╫──╫─┤M├─────────────────────\n",
      "      ├───┤ ║  ║  ║  ║  ║  ║  ║  ║ └╥┘┌─┐                  \n",
      " q_9: ┤ H ├─╫──╫──╫──╫──╫──╫──╫──╫──╫─┤M├──────────────────\n",
      "      ├───┤ ║  ║  ║  ║  ║  ║  ║  ║  ║ └╥┘┌─┐               \n",
      "q_10: ┤ H ├─╫──╫──╫──╫──╫──╫──╫──╫──╫──╫─┤M├───────────────\n",
      "      ├───┤ ║  ║  ║  ║  ║  ║  ║  ║  ║  ║ └╥┘┌─┐            \n",
      "q_11: ┤ H ├─╫──╫──╫──╫──╫──╫──╫──╫──╫──╫──╫─┤M├────────────\n",
      "      ├───┤ ║  ║  ║  ║  ║  ║  ║  ║  ║  ║  ║ └╥┘┌─┐         \n",
      "q_12: ┤ H ├─╫──╫──╫──╫──╫──╫──╫──╫──╫──╫──╫──╫─┤M├─────────\n",
      "      ├───┤ ║  ║  ║  ║  ║  ║  ║  ║  ║  ║  ║  ║ └╥┘┌─┐      \n",
      "q_13: ┤ H ├─╫──╫──╫──╫──╫──╫──╫──╫──╫──╫──╫──╫──╫─┤M├──────\n",
      "      ├───┤ ║  ║  ║  ║  ║  ║  ║  ║  ║  ║  ║  ║  ║ └╥┘┌─┐   \n",
      "q_14: ┤ H ├─╫──╫──╫──╫──╫──╫──╫──╫──╫──╫──╫──╫──╫──╫─┤M├───\n",
      "      ├───┤ ║  ║  ║  ║  ║  ║  ║  ║  ║  ║  ║  ║  ║  ║ └╥┘┌─┐\n",
      "q_15: ┤ H ├─╫──╫──╫──╫──╫──╫──╫──╫──╫──╫──╫──╫──╫──╫──╫─┤M├\n",
      "      └───┘ ║  ║  ║  ║  ║  ║  ║  ║  ║  ║  ║  ║  ║  ║  ║ └╥┘\n",
      "c: 16/══════╩══╩══╩══╩══╩══╩══╩══╩══╩══╩══╩══╩══╩══╩══╩══╩═\n",
      "            0  1  2  3  4  5  6  7  8  9  10 11 12 13 14 15\n"
     ]
    }
   ],
   "source": [
    "print(circuit)"
   ]
  },
  {
   "cell_type": "code",
   "execution_count": 6,
   "metadata": {
    "colab": {
     "base_uri": "https://localhost:8080/",
     "height": 556
    },
    "executionInfo": {
     "elapsed": 464,
     "status": "ok",
     "timestamp": 1731490288670,
     "user": {
      "displayName": "Abhishek Shinde",
      "userId": "03317997291877497814"
     },
     "user_tz": -330
    },
    "id": "r8pZCP4b2fhl",
    "outputId": "34e34b0c-82f3-4231-bf08-462fb2f6c90e"
   },
   "outputs": [
    {
     "data": {
      "text/html": [
       "<pre style=\"word-wrap: normal;white-space: pre;background: #fff0;line-height: 1.1;font-family: &quot;Courier New&quot;,Courier,monospace\">      ┌───┐┌─┐                                             \n",
       " q_0: ┤ H ├┤M├─────────────────────────────────────────────\n",
       "      ├───┤└╥┘┌─┐                                          \n",
       " q_1: ┤ H ├─╫─┤M├──────────────────────────────────────────\n",
       "      ├───┤ ║ └╥┘┌─┐                                       \n",
       " q_2: ┤ H ├─╫──╫─┤M├───────────────────────────────────────\n",
       "      ├───┤ ║  ║ └╥┘┌─┐                                    \n",
       " q_3: ┤ H ├─╫──╫──╫─┤M├────────────────────────────────────\n",
       "      ├───┤ ║  ║  ║ └╥┘┌─┐                                 \n",
       " q_4: ┤ H ├─╫──╫──╫──╫─┤M├─────────────────────────────────\n",
       "      ├───┤ ║  ║  ║  ║ └╥┘┌─┐                              \n",
       " q_5: ┤ H ├─╫──╫──╫──╫──╫─┤M├──────────────────────────────\n",
       "      ├───┤ ║  ║  ║  ║  ║ └╥┘┌─┐                           \n",
       " q_6: ┤ H ├─╫──╫──╫──╫──╫──╫─┤M├───────────────────────────\n",
       "      ├───┤ ║  ║  ║  ║  ║  ║ └╥┘┌─┐                        \n",
       " q_7: ┤ H ├─╫──╫──╫──╫──╫──╫──╫─┤M├────────────────────────\n",
       "      ├───┤ ║  ║  ║  ║  ║  ║  ║ └╥┘┌─┐                     \n",
       " q_8: ┤ H ├─╫──╫──╫──╫──╫──╫──╫──╫─┤M├─────────────────────\n",
       "      ├───┤ ║  ║  ║  ║  ║  ║  ║  ║ └╥┘┌─┐                  \n",
       " q_9: ┤ H ├─╫──╫──╫──╫──╫──╫──╫──╫──╫─┤M├──────────────────\n",
       "      ├───┤ ║  ║  ║  ║  ║  ║  ║  ║  ║ └╥┘┌─┐               \n",
       "q_10: ┤ H ├─╫──╫──╫──╫──╫──╫──╫──╫──╫──╫─┤M├───────────────\n",
       "      ├───┤ ║  ║  ║  ║  ║  ║  ║  ║  ║  ║ └╥┘┌─┐            \n",
       "q_11: ┤ H ├─╫──╫──╫──╫──╫──╫──╫──╫──╫──╫──╫─┤M├────────────\n",
       "      ├───┤ ║  ║  ║  ║  ║  ║  ║  ║  ║  ║  ║ └╥┘┌─┐         \n",
       "q_12: ┤ H ├─╫──╫──╫──╫──╫──╫──╫──╫──╫──╫──╫──╫─┤M├─────────\n",
       "      ├───┤ ║  ║  ║  ║  ║  ║  ║  ║  ║  ║  ║  ║ └╥┘┌─┐      \n",
       "q_13: ┤ H ├─╫──╫──╫──╫──╫──╫──╫──╫──╫──╫──╫──╫──╫─┤M├──────\n",
       "      ├───┤ ║  ║  ║  ║  ║  ║  ║  ║  ║  ║  ║  ║  ║ └╥┘┌─┐   \n",
       "q_14: ┤ H ├─╫──╫──╫──╫──╫──╫──╫──╫──╫──╫──╫──╫──╫──╫─┤M├───\n",
       "      ├───┤ ║  ║  ║  ║  ║  ║  ║  ║  ║  ║  ║  ║  ║  ║ └╥┘┌─┐\n",
       "q_15: ┤ H ├─╫──╫──╫──╫──╫──╫──╫──╫──╫──╫──╫──╫──╫──╫──╫─┤M├\n",
       "      └───┘ ║  ║  ║  ║  ║  ║  ║  ║  ║  ║  ║  ║  ║  ║  ║ └╥┘\n",
       "c: 16/══════╩══╩══╩══╩══╩══╩══╩══╩══╩══╩══╩══╩══╩══╩══╩══╩═\n",
       "            0  1  2  3  4  5  6  7  8  9  10 11 12 13 14 15</pre>"
      ],
      "text/plain": [
       "      ┌───┐┌─┐                                             \n",
       " q_0: ┤ H ├┤M├─────────────────────────────────────────────\n",
       "      ├───┤└╥┘┌─┐                                          \n",
       " q_1: ┤ H ├─╫─┤M├──────────────────────────────────────────\n",
       "      ├───┤ ║ └╥┘┌─┐                                       \n",
       " q_2: ┤ H ├─╫──╫─┤M├───────────────────────────────────────\n",
       "      ├───┤ ║  ║ └╥┘┌─┐                                    \n",
       " q_3: ┤ H ├─╫──╫──╫─┤M├────────────────────────────────────\n",
       "      ├───┤ ║  ║  ║ └╥┘┌─┐                                 \n",
       " q_4: ┤ H ├─╫──╫──╫──╫─┤M├─────────────────────────────────\n",
       "      ├───┤ ║  ║  ║  ║ └╥┘┌─┐                              \n",
       " q_5: ┤ H ├─╫──╫──╫──╫──╫─┤M├──────────────────────────────\n",
       "      ├───┤ ║  ║  ║  ║  ║ └╥┘┌─┐                           \n",
       " q_6: ┤ H ├─╫──╫──╫──╫──╫──╫─┤M├───────────────────────────\n",
       "      ├───┤ ║  ║  ║  ║  ║  ║ └╥┘┌─┐                        \n",
       " q_7: ┤ H ├─╫──╫──╫──╫──╫──╫──╫─┤M├────────────────────────\n",
       "      ├───┤ ║  ║  ║  ║  ║  ║  ║ └╥┘┌─┐                     \n",
       " q_8: ┤ H ├─╫──╫──╫──╫──╫──╫──╫──╫─┤M├─────────────────────\n",
       "      ├───┤ ║  ║  ║  ║  ║  ║  ║  ║ └╥┘┌─┐                  \n",
       " q_9: ┤ H ├─╫──╫──╫──╫──╫──╫──╫──╫──╫─┤M├──────────────────\n",
       "      ├───┤ ║  ║  ║  ║  ║  ║  ║  ║  ║ └╥┘┌─┐               \n",
       "q_10: ┤ H ├─╫──╫──╫──╫──╫──╫──╫──╫──╫──╫─┤M├───────────────\n",
       "      ├───┤ ║  ║  ║  ║  ║  ║  ║  ║  ║  ║ └╥┘┌─┐            \n",
       "q_11: ┤ H ├─╫──╫──╫──╫──╫──╫──╫──╫──╫──╫──╫─┤M├────────────\n",
       "      ├───┤ ║  ║  ║  ║  ║  ║  ║  ║  ║  ║  ║ └╥┘┌─┐         \n",
       "q_12: ┤ H ├─╫──╫──╫──╫──╫──╫──╫──╫──╫──╫──╫──╫─┤M├─────────\n",
       "      ├───┤ ║  ║  ║  ║  ║  ║  ║  ║  ║  ║  ║  ║ └╥┘┌─┐      \n",
       "q_13: ┤ H ├─╫──╫──╫──╫──╫──╫──╫──╫──╫──╫──╫──╫──╫─┤M├──────\n",
       "      ├───┤ ║  ║  ║  ║  ║  ║  ║  ║  ║  ║  ║  ║  ║ └╥┘┌─┐   \n",
       "q_14: ┤ H ├─╫──╫──╫──╫──╫──╫──╫──╫──╫──╫──╫──╫──╫──╫─┤M├───\n",
       "      ├───┤ ║  ║  ║  ║  ║  ║  ║  ║  ║  ║  ║  ║  ║  ║ └╥┘┌─┐\n",
       "q_15: ┤ H ├─╫──╫──╫──╫──╫──╫──╫──╫──╫──╫──╫──╫──╫──╫──╫─┤M├\n",
       "      └───┘ ║  ║  ║  ║  ║  ║  ║  ║  ║  ║  ║  ║  ║  ║  ║ └╥┘\n",
       "c: 16/══════╩══╩══╩══╩══╩══╩══╩══╩══╩══╩══╩══╩══╩══╩══╩══╩═\n",
       "            0  1  2  3  4  5  6  7  8  9  10 11 12 13 14 15"
      ]
     },
     "execution_count": 6,
     "metadata": {},
     "output_type": "execute_result"
    }
   ],
   "source": [
    "circuit_drawer(circuit, output='text')"
   ]
  },
  {
   "cell_type": "code",
   "execution_count": 7,
   "metadata": {
    "colab": {
     "base_uri": "https://localhost:8080/"
    },
    "executionInfo": {
     "elapsed": 439,
     "status": "ok",
     "timestamp": 1731492567751,
     "user": {
      "displayName": "Abhishek Shinde",
      "userId": "03317997291877497814"
     },
     "user_tz": -330
    },
    "id": "I74mbYhv2fen",
    "outputId": "6d6932e9-6c2e-4e96-fa35-d4dfb74ccfed"
   },
   "outputs": [
    {
     "name": "stdout",
     "output_type": "stream",
     "text": [
      "Random number (decimal): 35799\n",
      "Random number (binary): 1000101111010111\n"
     ]
    }
   ],
   "source": [
    "simulator = Aer.get_backend('qasm_simulator')\n",
    "job = simulator.run(circuit, shots=1)\n",
    "result = job.result()\n",
    "counts = result.get_counts(circuit)\n",
    "random_number = int(list(counts.keys())[0], 2)\n",
    "# Convert the random number to binary representation\n",
    "binary_number = bin(random_number)[2:].zfill(16)\n",
    "print(\"Random number (decimal):\", random_number)\n",
    "print(\"Random number (binary):\", binary_number)"
   ]
  },
  {
   "cell_type": "code",
   "execution_count": null,
   "metadata": {
    "id": "6TvzbkQI2fNS"
   },
   "outputs": [],
   "source": []
  },
  {
   "cell_type": "code",
   "execution_count": null,
   "metadata": {
    "id": "uthxdx5p2fKm"
   },
   "outputs": [],
   "source": []
  }
 ],
 "metadata": {
  "colab": {
   "authorship_tag": "ABX9TyNX3rZ0rr+WW1ikQ+ugifGg",
   "provenance": []
  },
  "kernelspec": {
   "display_name": "Python 3 (ipykernel)",
   "language": "python",
   "name": "python3"
  },
  "language_info": {
   "codemirror_mode": {
    "name": "ipython",
    "version": 3
   },
   "file_extension": ".py",
   "mimetype": "text/x-python",
   "name": "python",
   "nbconvert_exporter": "python",
   "pygments_lexer": "ipython3",
   "version": "3.10.12"
  }
 },
 "nbformat": 4,
 "nbformat_minor": 4
}
