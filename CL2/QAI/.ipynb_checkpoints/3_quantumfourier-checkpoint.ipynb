{
 "cells": [
  {
   "cell_type": "code",
   "execution_count": 37,
   "metadata": {},
   "outputs": [],
   "source": [
    "# Implementing a 5 qubit Quantum Fourier Transform"
   ]
  },
  {
   "cell_type": "code",
   "execution_count": 38,
   "metadata": {},
   "outputs": [],
   "source": [
    "import numpy as np\n",
    "from qiskit import QuantumRegister, ClassicalRegister\n",
    "from qiskit import QuantumCircuit,transpile\n",
    "from qiskit_aer import AerSimulator"
   ]
  },
  {
   "cell_type": "code",
   "execution_count": 39,
   "metadata": {},
   "outputs": [],
   "source": [
    "from qiskit.circuit.library import QFT"
   ]
  },
  {
   "cell_type": "code",
   "execution_count": 40,
   "metadata": {},
   "outputs": [],
   "source": [
    "# Set up the AerSimulator backend\n",
    "simulator = AerSimulator()"
   ]
  },
  {
   "cell_type": "code",
   "execution_count": 41,
   "metadata": {},
   "outputs": [],
   "source": [
    "q = QuantumRegister(5,'q')\n",
    "c = ClassicalRegister(5,'c')\n",
    "circuit = QuantumCircuit(q,c)"
   ]
  },
  {
   "cell_type": "code",
   "execution_count": 42,
   "metadata": {},
   "outputs": [],
   "source": [
    "circuit = QuantumCircuit(q, c)"
   ]
  },
  {
   "cell_type": "code",
   "execution_count": 43,
   "metadata": {},
   "outputs": [
    {
     "data": {
      "text/plain": [
       "<qiskit.circuit.instructionset.InstructionSet at 0x1eb3f14d180>"
      ]
     },
     "execution_count": 43,
     "metadata": {},
     "output_type": "execute_result"
    }
   ],
   "source": [
    "circuit.h(q) "
   ]
  },
  {
   "cell_type": "code",
   "execution_count": 44,
   "metadata": {},
   "outputs": [
    {
     "data": {
      "text/plain": [
       "<qiskit.circuit.instructionset.InstructionSet at 0x1eb3f119090>"
      ]
     },
     "execution_count": 44,
     "metadata": {},
     "output_type": "execute_result"
    }
   ],
   "source": [
    "# Apply X gates to specific qubits (as per your original code)\n",
    "circuit.x(q[4])\n",
    "circuit.x(q[2])\n",
    "circuit.x(q[0])"
   ]
  },
  {
   "cell_type": "code",
   "execution_count": 45,
   "metadata": {},
   "outputs": [
    {
     "data": {
      "text/plain": [
       "<qiskit.circuit.instructionset.InstructionSet at 0x1eb3dcf1ea0>"
      ]
     },
     "execution_count": 45,
     "metadata": {},
     "output_type": "execute_result"
    }
   ],
   "source": [
    "# Apply the Quantum Fourier Transform (QFT)\n",
    "qft_circuit = QFT(num_qubits=5, approximation_degree=0, do_swaps=True, inverse=False, insert_barriers=False, name=\"qft\")\n",
    "circuit.append(qft_circuit, q)"
   ]
  },
  {
   "cell_type": "code",
   "execution_count": 46,
   "metadata": {},
   "outputs": [
    {
     "data": {
      "text/html": [
       "<pre style=\"word-wrap: normal;white-space: pre;background: #fff0;line-height: 1.1;font-family: &quot;Courier New&quot;,Courier,monospace\">     ┌───┐┌───┐┌──────┐┌──────┐┌─┐            \n",
       "q_0: ┤ H ├┤ X ├┤0     ├┤0     ├┤M├────────────\n",
       "     ├───┤└───┘│      ││      │└╥┘┌─┐         \n",
       "q_1: ┤ H ├─────┤1     ├┤1     ├─╫─┤M├─────────\n",
       "     ├───┤┌───┐│      ││      │ ║ └╥┘┌─┐      \n",
       "q_2: ┤ H ├┤ X ├┤2 qft ├┤2 qft ├─╫──╫─┤M├──────\n",
       "     ├───┤└───┘│      ││      │ ║  ║ └╥┘┌─┐   \n",
       "q_3: ┤ H ├─────┤3     ├┤3     ├─╫──╫──╫─┤M├───\n",
       "     ├───┤┌───┐│      ││      │ ║  ║  ║ └╥┘┌─┐\n",
       "q_4: ┤ H ├┤ X ├┤4     ├┤4     ├─╫──╫──╫──╫─┤M├\n",
       "     └───┘└───┘└──────┘└──────┘ ║  ║  ║  ║ └╥┘\n",
       "c: 5/═══════════════════════════╩══╩══╩══╩══╩═\n",
       "                                0  1  2  3  4 </pre>"
      ],
      "text/plain": [
       "     ┌───┐┌───┐┌──────┐┌──────┐┌─┐            \n",
       "q_0: ┤ H ├┤ X ├┤0     ├┤0     ├┤M├────────────\n",
       "     ├───┤└───┘│      ││      │└╥┘┌─┐         \n",
       "q_1: ┤ H ├─────┤1     ├┤1     ├─╫─┤M├─────────\n",
       "     ├───┤┌───┐│      ││      │ ║ └╥┘┌─┐      \n",
       "q_2: ┤ H ├┤ X ├┤2 qft ├┤2 qft ├─╫──╫─┤M├──────\n",
       "     ├───┤└───┘│      ││      │ ║  ║ └╥┘┌─┐   \n",
       "q_3: ┤ H ├─────┤3     ├┤3     ├─╫──╫──╫─┤M├───\n",
       "     ├───┤┌───┐│      ││      │ ║  ║  ║ └╥┘┌─┐\n",
       "q_4: ┤ H ├┤ X ├┤4     ├┤4     ├─╫──╫──╫──╫─┤M├\n",
       "     └───┘└───┘└──────┘└──────┘ ║  ║  ║  ║ └╥┘\n",
       "c: 5/═══════════════════════════╩══╩══╩══╩══╩═\n",
       "                                0  1  2  3  4 "
      ]
     },
     "execution_count": 46,
     "metadata": {},
     "output_type": "execute_result"
    }
   ],
   "source": [
    "circuit = circuit.compose(qft_circuit)\n",
    "circuit.measure(q,c) # Measure the qubits and store the result in classical register\n",
    "circuit.draw()"
   ]
  },
  {
   "cell_type": "code",
   "execution_count": 47,
   "metadata": {},
   "outputs": [],
   "source": [
    "transpiled_circuit = transpile(circuit, simulator)"
   ]
  },
  {
   "cell_type": "code",
   "execution_count": 48,
   "metadata": {},
   "outputs": [],
   "source": [
    "job = simulator.run(transpiled_circuit,shots=1000)"
   ]
  },
  {
   "cell_type": "code",
   "execution_count": 49,
   "metadata": {},
   "outputs": [
    {
     "name": "stdout",
     "output_type": "stream",
     "text": [
      "Job is running...\n",
      "Final job status: JobStatus.DONE\n"
     ]
    }
   ],
   "source": [
    "print(\"Job is running...\")\n",
    "print(f\"Final job status: {job.status()}\")"
   ]
  },
  {
   "cell_type": "code",
   "execution_count": 50,
   "metadata": {},
   "outputs": [
    {
     "name": "stdout",
     "output_type": "stream",
     "text": [
      "\n",
      " QFT Output\n",
      "-------------\n",
      "{'11111': 35, '11001': 29, '00000': 36, '01000': 27, '11100': 41, '01110': 20, '10101': 35, '11110': 28, '10000': 35, '01111': 32, '00010': 33, '11010': 46, '10100': 31, '00101': 31, '00011': 45, '01101': 30, '01010': 32, '10011': 29, '01100': 27, '00001': 32, '10010': 27, '11101': 33, '10001': 26, '11011': 28, '00111': 24, '01001': 25, '01011': 33, '00100': 25, '00110': 31, '10111': 36, '11000': 31, '10110': 27}\n"
     ]
    }
   ],
   "source": [
    "job_result = job.result()\n",
    "counts = job_result.get_counts()\n",
    "print(\"\\n QFT Output\")\n",
    "print(\"-------------\")\n",
    "print(counts)"
   ]
  },
  {
   "cell_type": "code",
   "execution_count": null,
   "metadata": {},
   "outputs": [],
   "source": []
  },
  {
   "cell_type": "code",
   "execution_count": null,
   "metadata": {},
   "outputs": [],
   "source": []
  }
 ],
 "metadata": {
  "kernelspec": {
   "display_name": "Python 3 (ipykernel)",
   "language": "python",
   "name": "python3"
  },
  "language_info": {
   "codemirror_mode": {
    "name": "ipython",
    "version": 3
   },
   "file_extension": ".py",
   "mimetype": "text/x-python",
   "name": "python",
   "nbconvert_exporter": "python",
   "pygments_lexer": "ipython3",
   "version": "3.10.9"
  }
 },
 "nbformat": 4,
 "nbformat_minor": 2
}
