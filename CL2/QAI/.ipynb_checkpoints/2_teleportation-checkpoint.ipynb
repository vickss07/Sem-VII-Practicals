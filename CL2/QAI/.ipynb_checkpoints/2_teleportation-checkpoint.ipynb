{
 "cells": [
  {
   "cell_type": "code",
   "execution_count": 1,
   "id": "462d7801",
   "metadata": {},
   "outputs": [],
   "source": [
    "# Implement Quantum Teleportation algorithm in Python"
   ]
  },
  {
   "cell_type": "code",
   "execution_count": 21,
   "id": "401be8fb",
   "metadata": {},
   "outputs": [],
   "source": [
    "from qiskit.circuit import QuantumCircuit\n",
    "from qiskit.visualization import plot_histogram\n",
    "from qiskit_aer import AerSimulator\n",
    "from qiskit import transpile"
   ]
  },
  {
   "cell_type": "code",
   "execution_count": 22,
   "id": "9ab08fc7",
   "metadata": {},
   "outputs": [],
   "source": [
    "circuit = QuantumCircuit(3, 3)\n"
   ]
  },
  {
   "cell_type": "code",
   "execution_count": 23,
   "id": "9a412d93",
   "metadata": {},
   "outputs": [
    {
     "data": {
      "text/html": [
       "<pre style=\"word-wrap: normal;white-space: pre;background: #fff0;line-height: 1.1;font-family: &quot;Courier New&quot;,Courier,monospace\">     ┌───┐ ░                ┌───┐ ░ ┌─┐    ░         \n",
       "q_0: ┤ X ├─░─────────────■──┤ H ├─░─┤M├────░───────■─\n",
       "     └───┘ ░ ┌───┐     ┌─┴─┐└───┘ ░ └╥┘┌─┐ ░       │ \n",
       "q_1: ──────░─┤ H ├──■──┤ X ├──────░──╫─┤M├─░───■───┼─\n",
       "           ░ └───┘┌─┴─┐└───┘      ░  ║ └╥┘ ░ ┌─┴─┐ │ \n",
       "q_2: ──────░──────┤ X ├───────────░──╫──╫──░─┤ X ├─■─\n",
       "           ░      └───┘           ░  ║  ║  ░ └───┘   \n",
       "c: 3/════════════════════════════════╩══╩════════════\n",
       "                                     0  1            </pre>"
      ],
      "text/plain": [
       "     ┌───┐ ░                ┌───┐ ░ ┌─┐    ░         \n",
       "q_0: ┤ X ├─░─────────────■──┤ H ├─░─┤M├────░───────■─\n",
       "     └───┘ ░ ┌───┐     ┌─┴─┐└───┘ ░ └╥┘┌─┐ ░       │ \n",
       "q_1: ──────░─┤ H ├──■──┤ X ├──────░──╫─┤M├─░───■───┼─\n",
       "           ░ └───┘┌─┴─┐└───┘      ░  ║ └╥┘ ░ ┌─┴─┐ │ \n",
       "q_2: ──────░──────┤ X ├───────────░──╫──╫──░─┤ X ├─■─\n",
       "           ░      └───┘           ░  ║  ║  ░ └───┘   \n",
       "c: 3/════════════════════════════════╩══╩════════════\n",
       "                                     0  1            "
      ]
     },
     "execution_count": 23,
     "metadata": {},
     "output_type": "execute_result"
    }
   ],
   "source": [
    "circuit.x(0)\n",
    "circuit.barrier(range(3))\n",
    "circuit.h(1)\n",
    "circuit.cx(1, 2)\n",
    "circuit.cx(0, 1)\n",
    "circuit.h(0)\n",
    "circuit.barrier(range(3))\n",
    "circuit.measure(range(2), range(2))\n",
    "circuit.barrier(range(3))\n",
    "circuit.cx(1, 2)\n",
    "circuit.cz(0, 2)\n",
    "circuit.draw()\n"
   ]
  },
  {
   "cell_type": "markdown",
   "id": "1aa97e70",
   "metadata": {},
   "source": [
    "Simulation"
   ]
  },
  {
   "cell_type": "code",
   "execution_count": 24,
   "id": "0d4c3531",
   "metadata": {},
   "outputs": [],
   "source": [
    "backend = AerSimulator()\n"
   ]
  },
  {
   "cell_type": "code",
   "execution_count": 25,
   "id": "1bf2d8b0",
   "metadata": {},
   "outputs": [],
   "source": [
    "qc_compiled = transpile(circuit, backend)"
   ]
  },
  {
   "cell_type": "code",
   "execution_count": 26,
   "id": "b58b3ab6",
   "metadata": {},
   "outputs": [],
   "source": [
    "job_sim = backend.run(qc_compiled, shots=1024)\n",
    "result_sim = job_sim.result()"
   ]
  },
  {
   "cell_type": "code",
   "execution_count": 27,
   "id": "e924ae50",
   "metadata": {},
   "outputs": [
    {
     "name": "stdout",
     "output_type": "stream",
     "text": [
      "{'000': 272, '010': 267, '001': 244, '011': 241}\n"
     ]
    }
   ],
   "source": [
    " counts = result_sim.get_counts(qc_compiled)\n",
    "print(counts)\n"
   ]
  },
  {
   "cell_type": "code",
   "execution_count": 28,
   "id": "9ed6feb2",
   "metadata": {},
   "outputs": [
    {
     "data": {
      "image/png": "[encoded data removed]",
      "text/plain": [
       "<Figure size 640x480 with 1 Axes>"
      ]
     },
     "execution_count": 28,
     "metadata": {},
     "output_type": "execute_result"
    }
   ],
   "source": [
    "plot_histogram(counts)"
   ]
  },
  {
   "cell_type": "code",
   "execution_count": null,
   "id": "dcbafc6a",
   "metadata": {},
   "outputs": [],
   "source": []
  },
  {
   "cell_type": "code",
   "execution_count": null,
   "id": "862389b5",
   "metadata": {},
   "outputs": [],
   "source": []
  }
 ],
 "metadata": {
  "kernelspec": {
   "display_name": "Python 3 (ipykernel)",
   "language": "python",
   "name": "python3"
  },
  "language_info": {
   "codemirror_mode": {
    "name": "ipython",
    "version": 3
   },
   "file_extension": ".py",
   "mimetype": "text/x-python",
   "name": "python",
   "nbconvert_exporter": "python",
   "pygments_lexer": "ipython3",
   "version": "3.10.9"
  }
 },
 "nbformat": 4,
 "nbformat_minor": 5
}
